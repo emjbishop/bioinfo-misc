{
 "cells": [
  {
   "cell_type": "markdown",
   "metadata": {},
   "source": [
    "# PubMed API Search\n",
    "\n",
    "This script performs a pubmed search and gathers the pubmed IDs of papers that meet all of our concept, affiliation, author, and other criteria.\n",
    "\n",
    "Uses the Entrez E-utilities: \n",
    "\n",
    "https://www.ncbi.nlm.nih.gov/books/NBK25497/#chapter2.Introduction\n",
    "\n",
    "https://pubmed.ncbi.nlm.nih.gov/help/\n",
    "\n",
    "Tags:\n",
    "https://www.ncbi.nlm.nih.gov/pmc/about/userguide/"
   ]
  },
  {
   "cell_type": "code",
   "execution_count": 104,
   "metadata": {},
   "outputs": [],
   "source": [
    "from bs4 import BeautifulSoup\n",
    "import requests"
   ]
  },
  {
   "cell_type": "markdown",
   "metadata": {},
   "source": [
    "## 1) Define and tidy inputs\n",
    "\n",
    "Originally copy/pasted from \"TB Center Metrics Analysis - revised April 2023.docx\". "
   ]
  },
  {
   "cell_type": "markdown",
   "metadata": {},
   "source": [
    "Things I chagned manually:\n",
    "\n",
    "- Replaced `(\"Kenya Medical Research Institute\"[ad] OR Hospital\"[ad])` with `\"Kenya Medical Research Institute\"[ad]` to prevent 'Hospital' being a search term."
   ]
  },
  {
   "cell_type": "markdown",
   "metadata": {},
   "source": [
    "### Date (changes quarterly)"
   ]
  },
  {
   "cell_type": "code",
   "execution_count": 105,
   "metadata": {},
   "outputs": [],
   "source": [
    "pubdate = '2023/07/01:2023/09/30[pdat]'"
   ]
  },
  {
   "cell_type": "markdown",
   "metadata": {},
   "source": [
    "### Affiliations"
   ]
  },
  {
   "cell_type": "code",
   "execution_count": 106,
   "metadata": {},
   "outputs": [],
   "source": [
    "affiliation = '(\"university of washington\"[ad] OR \"univ washington\"[ad] OR \"washington.edu\"[ad] OR \"uw.edu\"[ad] OR \"fred hutch*\"[ad] OR \"fred hutchinson\"[ad] OR \"fredhutch.org\"[ad] OR \"Tuberculosis Research and Training Center\"[ad] OR \"Center for Infectious Disease Research\"[ad] OR \"Infectious Diseases Research Institute\"[ad] OR \"Infectious Disease Research Institute\"[ad] OR \"Fhcrc.org\"[ad] OR \"path\"[ad] OR \"Veterans Affairs Puget Sound\"[ad] OR \"VA Puget Sound\"[ad] OR \"Center for Global Infectious Disease Research\"[ad] OR \"seattlechild*\"[ad] OR \"seattlechildrens.org\"[ad] OR \"Seattle child*\"[ad] OR \"cidresearch.org\"[ad] OR \"sbri.org\"[ad] OR \"bill and melinda\"[ad] OR \"bill melinda\"[ad] OR \"gates found*\"[ad] OR \"gatesfoundation.org\"[ad] OR \"Harborview\"[ad] OR \"UW Medical Center\"[ad] OR \"Seattle Cancer Care Alliance\"[ad] OR \"TB Discovery Research\"[ad] OR \"seattle\"[ad] OR \"puget sound\"[ad] OR \"seattlebiomed.org\"[ad] OR \"Seattle biomedical research\"[ad] OR \"E-Science Institute\"[ad] OR \"Institute for Systems Biology\"[ad] OR \"sytemsbiology.org\"[ad] OR \"Lawrence Berkeley National Laboratory\"[ad] OR \"isbscience.org\"[ad] OR \"Seattle Structural Genomics Center\"[ad] OR \"PAI Life Sciences\"[ad] OR \"King County\"[ad] OR \"Kwazulu\"[ad] OR \"Natal\"[ad] OR \"Edendale Hospital\"[ad] OR \"south Africa\"[ad] OR \"University of Nairobi\"[ad] OR \"Kenya\"[ad] OR \"treatmentactiongroup.org\"[ad] OR \"TAG\"[ad] OR \"treatment action group\"[ad]  OR (\"Kenya Medical Research Institute\"[ad] OR Hospital\"[ad])'"
   ]
  },
  {
   "cell_type": "code",
   "execution_count": 107,
   "metadata": {},
   "outputs": [
    {
     "data": {
      "text/plain": [
       "['\"university of washington\"[ad]',\n",
       " '\"univ washington\"[ad]',\n",
       " '\"washington.edu\"[ad]',\n",
       " '\"uw.edu\"[ad]',\n",
       " '\"fred hutch*\"[ad]',\n",
       " '\"fred hutchinson\"[ad]',\n",
       " '\"fredhutch.org\"[ad]',\n",
       " '\"Tuberculosis Research and Training Center\"[ad]',\n",
       " '\"Center for Infectious Disease Research\"[ad]',\n",
       " '\"Infectious Diseases Research Institute\"[ad]',\n",
       " '\"Infectious Disease Research Institute\"[ad]',\n",
       " '\"Fhcrc.org\"[ad]',\n",
       " '\"path\"[ad]',\n",
       " '\"Veterans Affairs Puget Sound\"[ad]',\n",
       " '\"VA Puget Sound\"[ad]',\n",
       " '\"Center for Global Infectious Disease Research\"[ad]',\n",
       " '\"seattlechild*\"[ad]',\n",
       " '\"seattlechildrens.org\"[ad]',\n",
       " '\"Seattle child*\"[ad]',\n",
       " '\"cidresearch.org\"[ad]',\n",
       " '\"sbri.org\"[ad]',\n",
       " '\"bill and melinda\"[ad]',\n",
       " '\"bill melinda\"[ad]',\n",
       " '\"gates found*\"[ad]',\n",
       " '\"gatesfoundation.org\"[ad]',\n",
       " '\"Harborview\"[ad]',\n",
       " '\"UW Medical Center\"[ad]',\n",
       " '\"Seattle Cancer Care Alliance\"[ad]',\n",
       " '\"TB Discovery Research\"[ad]',\n",
       " '\"seattle\"[ad]',\n",
       " '\"puget sound\"[ad]',\n",
       " '\"seattlebiomed.org\"[ad]',\n",
       " '\"Seattle biomedical research\"[ad]',\n",
       " '\"E-Science Institute\"[ad]',\n",
       " '\"Institute for Systems Biology\"[ad]',\n",
       " '\"sytemsbiology.org\"[ad]',\n",
       " '\"Lawrence Berkeley National Laboratory\"[ad]',\n",
       " '\"isbscience.org\"[ad]',\n",
       " '\"Seattle Structural Genomics Center\"[ad]',\n",
       " '\"PAI Life Sciences\"[ad]',\n",
       " '\"King County\"[ad]',\n",
       " '\"Kwazulu\"[ad]',\n",
       " '\"Natal\"[ad]',\n",
       " '\"Edendale Hospital\"[ad]',\n",
       " '\"south Africa\"[ad]',\n",
       " '\"University of Nairobi\"[ad]',\n",
       " '\"Kenya\"[ad]',\n",
       " '\"treatmentactiongroup.org\"[ad]',\n",
       " '\"TAG\"[ad]',\n",
       " '\"treatment action group\"[ad]',\n",
       " '\"Kenya Medical Research Institute\"[ad]']"
      ]
     },
     "execution_count": 107,
     "metadata": {},
     "output_type": "execute_result"
    }
   ],
   "source": [
    "affil_list = affiliation.\\\n",
    "    replace('(', '').\\\n",
    "    replace(')', '').\\\n",
    "    replace('\"Kenya Medical Research Institute\"[ad] OR Hospital\"[ad]', \n",
    "            '\"Kenya Medical Research Institute\"[ad]').\\\n",
    "    replace('  OR ', ' OR ').\\\n",
    "    split(' OR ')\n",
    "affil_list"
   ]
  },
  {
   "cell_type": "code",
   "execution_count": 108,
   "metadata": {},
   "outputs": [
    {
     "data": {
      "text/plain": [
       "'(\"university of washington\"[ad] OR \"univ washington\"[ad] OR \"washington.edu\"[ad] OR \"uw.edu\"[ad] OR \"fred hutch*\"[ad] OR \"fred hutchinson\"[ad] OR \"fredhutch.org\"[ad] OR \"Tuberculosis Research and Training Center\"[ad] OR \"Center for Infectious Disease Research\"[ad] OR \"Infectious Diseases Research Institute\"[ad] OR \"Infectious Disease Research Institute\"[ad] OR \"Fhcrc.org\"[ad] OR \"path\"[ad] OR \"Veterans Affairs Puget Sound\"[ad] OR \"VA Puget Sound\"[ad] OR \"Center for Global Infectious Disease Research\"[ad] OR \"seattlechild*\"[ad] OR \"seattlechildrens.org\"[ad] OR \"Seattle child*\"[ad] OR \"cidresearch.org\"[ad] OR \"sbri.org\"[ad] OR \"bill and melinda\"[ad] OR \"bill melinda\"[ad] OR \"gates found*\"[ad] OR \"gatesfoundation.org\"[ad] OR \"Harborview\"[ad] OR \"UW Medical Center\"[ad] OR \"Seattle Cancer Care Alliance\"[ad] OR \"TB Discovery Research\"[ad] OR \"seattle\"[ad] OR \"puget sound\"[ad] OR \"seattlebiomed.org\"[ad] OR \"Seattle biomedical research\"[ad] OR \"E-Science Institute\"[ad] OR \"Institute for Systems Biology\"[ad] OR \"sytemsbiology.org\"[ad] OR \"Lawrence Berkeley National Laboratory\"[ad] OR \"isbscience.org\"[ad] OR \"Seattle Structural Genomics Center\"[ad] OR \"PAI Life Sciences\"[ad] OR \"King County\"[ad] OR \"Kwazulu\"[ad] OR \"Natal\"[ad] OR \"Edendale Hospital\"[ad] OR \"south Africa\"[ad] OR \"University of Nairobi\"[ad] OR \"Kenya\"[ad] OR \"treatmentactiongroup.org\"[ad] OR \"TAG\"[ad] OR \"treatment action group\"[ad] OR \"Kenya Medical Research Institute\"[ad])'"
      ]
     },
     "execution_count": 108,
     "metadata": {},
     "output_type": "execute_result"
    }
   ],
   "source": [
    "# Turn back into a big string\n",
    "affil_str = '(' + ' OR '.join(affil_list) + ')'\n",
    "affil_str"
   ]
  },
  {
   "cell_type": "markdown",
   "metadata": {},
   "source": [
    "### Concepts\n",
    "\n",
    "Don't change regularly. Copy/pasted from \"TB Center Metrics Analysis - revised April 2023.docx\". "
   ]
  },
  {
   "cell_type": "code",
   "execution_count": 109,
   "metadata": {},
   "outputs": [
    {
     "data": {
      "text/plain": [
       "['(\"tubercul*\"[tw]',\n",
       " '\"Antitubercul*\"[tw]',\n",
       " '\"Anti-Tubercul*\"[tw]',\n",
       " '\"osteotubercul*\"[tw]',\n",
       " '\"nephrotubercul*\"[tw]',\n",
       " '\"anthracosilicotubercul*\"[tw]',\n",
       " '\"coniotubercul*\"[tw]',\n",
       " '\"Tuberculin\"[tw]',\n",
       " '\"tb\"[tw]',\n",
       " '\"xdr-tb\"[tw]',\n",
       " '\"xdrtb\"[tw]',\n",
       " '\"mdr-tb\"[tw]',\n",
       " '\"mdrtb\"[tw]',\n",
       " '\"phthisis\"[tw]',\n",
       " '\"pneumonophthisis\"[tw]',\n",
       " '\"pneumophthisiology\"[tw]',\n",
       " '\"silicotubercul*\"[tw]',\n",
       " '\"bazin disease\"[tw]',\n",
       " '\"erythema induratum\"[tw]',\n",
       " '\"white swelling\"[tw]',\n",
       " '\"king`s evil\"[tw]',\n",
       " '\"scrofula\"[tw]',\n",
       " '\"pott disease\"[tw]',\n",
       " '\"koch`s disease\"[tw]',\n",
       " '\"Interferon-gamma Release Test\"[tw]',\n",
       " '\"Tuberculosis\"[mh]',\n",
       " '\"Mycobacterium tuberculosis\"[mh]',\n",
       " '\"Antitubercular Agents\"[mh]',\n",
       " '\"Tuberculin Test\"[mh]',\n",
       " '\"Interferon-gamma Release Tests\"[mh]',\n",
       " '\"Tuberculosis Vaccines\"[mh])']"
      ]
     },
     "execution_count": 109,
     "metadata": {},
     "output_type": "execute_result"
    }
   ],
   "source": [
    "concept = '(\"tubercul*\"[tw] OR \"Antitubercul*\"[tw] OR \"Anti-Tubercul*\"[tw] OR \"osteotubercul*\"[tw] OR \"nephrotubercul*\"[tw] OR \"anthracosilicotubercul*\"[tw] OR \"coniotubercul*\"[tw] OR \"Tuberculin\"[tw] OR \"tb\"[tw] OR \"xdr-tb\"[tw] OR \"xdrtb\"[tw] OR \"mdr-tb\"[tw] OR \"mdrtb\"[tw] OR \"phthisis\"[tw] OR \"pneumonophthisis\"[tw] OR \"pneumophthisiology\"[tw] OR \"silicotubercul*\"[tw] OR \"bazin disease\"[tw] OR \"erythema induratum\"[tw] OR \"white swelling\"[tw] OR \"king`s evil\"[tw] OR \"scrofula\"[tw] OR \"pott disease\"[tw] OR \"koch`s disease\"[tw] OR \"Interferon-gamma Release Test\"[tw] OR \"Tuberculosis\"[Mesh] OR \"Mycobacterium tuberculosis\"[Mesh] OR \"Antitubercular Agents\"[Mesh] OR \"Tuberculin Test\"[Mesh] OR \"Interferon-gamma Release Tests\"[Mesh] OR \"Tuberculosis Vaccines\"[Mesh])'\n",
    "concept_list = concept.\\\n",
    "    replace('[Mesh]', '[mh]').\\\n",
    "    split(' OR ')\n",
    "\n",
    "concept_list"
   ]
  },
  {
   "cell_type": "code",
   "execution_count": 110,
   "metadata": {},
   "outputs": [
    {
     "data": {
      "text/plain": [
       "'(\"tubercul*\"[tw] OR \"Antitubercul*\"[tw] OR \"Anti-Tubercul*\"[tw] OR \"osteotubercul*\"[tw] OR \"nephrotubercul*\"[tw] OR \"anthracosilicotubercul*\"[tw] OR \"coniotubercul*\"[tw] OR \"Tuberculin\"[tw] OR \"tb\"[tw] OR \"xdr-tb\"[tw] OR \"xdrtb\"[tw] OR \"mdr-tb\"[tw] OR \"mdrtb\"[tw] OR \"phthisis\"[tw] OR \"pneumonophthisis\"[tw] OR \"pneumophthisiology\"[tw] OR \"silicotubercul*\"[tw] OR \"bazin disease\"[tw] OR \"erythema induratum\"[tw] OR \"white swelling\"[tw] OR \"king`s evil\"[tw] OR \"scrofula\"[tw] OR \"pott disease\"[tw] OR \"koch`s disease\"[tw] OR \"Interferon-gamma Release Test\"[tw] OR \"Tuberculosis\"[mh] OR \"Mycobacterium tuberculosis\"[mh] OR \"Antitubercular Agents\"[mh] OR \"Tuberculin Test\"[mh] OR \"Interferon-gamma Release Tests\"[mh] OR \"Tuberculosis Vaccines\"[mh])'"
      ]
     },
     "execution_count": 110,
     "metadata": {},
     "output_type": "execute_result"
    }
   ],
   "source": [
    "# Turn back into a big string\n",
    "concept_str = ' OR '.join(concept_list)\n",
    "concept_str"
   ]
  },
  {
   "cell_type": "markdown",
   "metadata": {},
   "source": [
    "### Author list \n",
    "\n",
    "Was split by author speciality and had redundancies. It seems that \" ` \" and \" ' \" are interchangable, and that a space in front of the name doesn't matter.\n",
    "\n",
    "Manually replace:\n",
    "- ' with `\n",
    "- `” [Au] “` with `” [Au] OR “`\n",
    "- `[Au]\"` with `\"[Au]`"
   ]
  },
  {
   "cell_type": "code",
   "execution_count": 111,
   "metadata": {},
   "outputs": [],
   "source": [
    "# Copy/pasted from word doc\n",
    "authors_clinic = '“Nag D”[Au] OR “Duffy F”[Au] OR “Kearney J”[Au] OR “Trehan I”[Au] OR “Cangelosi G”[Au] OR “Andriesen J”[Au] OR “Coler R”[Au] OR “Kgoadi K”[Au] OR “Fiore-Gartland  A”[Au] OR “Johnson A”[Au] OR “Rais M”[Au] OR “Sanders L”[Au] OR “Attia E”[Au] or “Horne D”[Au] OR “Okwaro E”[Au] OR “Tapley A”[Au] OR “Stein G”[Au] OR “Sorri Y”[Au] OR “Bender Ignacio R”[Au] OR “Wald A”[Au] OR “Jaspan H”[Au] OR “Kumar A”[Au] OR “Pecor T”[Au] OR “Zhu Z”[Au] OR “Mudrock E”[Au] OR “Olson A”[Au] OR “Kublin J”[Au] OR “Randhawa A”[Au] OR “Andersen-N E”[Au] OR “Mayer-Blackwell K”[Au] OR “Kieswetter N”[Au] OR “Harband M”[Au] OR “Harne R”[Au] OR “Akins S”[Au] OR “Larsen Akins S”[Au] OR “Valerie R”[Au] OR “Gottlieb G”[Au] OR “Shapiro A”[Au] OR “LaCourse S”[Au] OR “Graham S”[Au] OR “Smytheman T”[Au] OR “Cowan J”[Au] OR “Iribarren S”[Au]'\n",
    "authors_compbio = '“Nag D” [Au] OR “Duffy F” [Au] OR “Fiore-Gartland A” [Au] OR “Mayer-Blackwell, K” [Au] OR “Kieswetter N” [Au] OR “Abdelaal H” [Au] OR “Segnitz M” [Au] OR “Ma S” [Au] OR “Pepper E” [Au] OR “Allen R” [Au] OR “Mixon T” [Au] OR “Himmelfarb T” [Au] OR “Bishop E” [Au] OR “Bustad E” [Au] OR “Grosvenor D” [Au]'\n",
    "authors_epi = '“Nag D” [Au] OR “Kearney J” [Au] OR “Trehan I” [Au] OR “Cangelosi G” [Au] or “Johnson A” [Au] or “Johnson A” [Au] OR “Rais M” [Au] or “Attia E” [Au] OR “Horne D” [Au] OR “Okwaro E” [Au] OR “Sorri Y” [Au] OR “Bender Ignacio R” [Au] OR “Wald A” [Au] OR “Kublin J” [Au] OR “Gottlieb G” [Au] OR “Shapiro A” [Au] OR “LaCourse S” [Au] OR “Graham S” [Au] OR “Motiri F” [Au] OR “LeGrand K” [Au] OR “Cherkos A” [Au] OR “Fajans M” [Au] OR “Tram K” [Au] OR “Basting A” [Au] OR “Ross J” [Au] OR “King`ori B” [Au] OR “Ndoti A” [Au] OR “Black D” [Au] OR “Magomere R” [Au] OR “Kerani R” [Au] OR “Church E” [Au] OR  “Escudero J” [Au] OR “John-Stewart G” [Au] OR “Dalmat R” [Au] OR “Berkoh H” [Au]'\n",
    "authors_globalhealth = '“Nag D” [Au] OR “Kearney J” [Au] OR “Trehan I” [Au] OR “Cangelosi G” [Au] or “Johnson A” [Au] or “Johnson A” [Au] OR “Rais M” [Au] or “Attia E” [Au] OR “Horne D” [Au] OR “Okwaro E” [Au] OR “Kublin J” [Au] OR “Gottlieb G” [Au] OR “Shapiro A” [Au] OR “LaCourse S” [Au] OR “Graham S” [Au] OR “Motiri F” [Au] OR “LeGrand K” [Au] OR “Cherkos A” [Au] OR “Fajans M” [Au] OR “Tram K” [Au] OR “Basting A” [Au] OR “Ndoti A” [Au] OR “Black D” [Au] OR “Escudero J” [Au] OR “John-Stewart G” [Au] OR “Abdelaal H” [Au] OR “Coler R” [Au] OR “Sanders L” [Au] OR “Tapley A” [Au] OR “Stein G” [Au] OR “Jaspan H” [Au] OR “Kumar A” [Au] OR “Pecor T” [Au] OR “Randhawa A” [Au] OR “Andersen-Nissen E” [Au] OR “Smytheman T” [Au] OR “Cowan J” [Au] OR “Iribarren S” [Au] OR “Sharma M” [Au] OR “Henry N” [Au] OR “Brumwell A” [Au] OR “Buckner F” [Au] OR “Duncombe C” [Au] OR “Armistead B” [Au] OR “Panpradist N” [Au] OR “Hill D” [Au] OR “Miller D” [Au] OR “Haynes A” [Au] OR “Chohan B” [Au] OR “Seshadri C” [Au] OR “Williams B” [Au] OR “Barrett H” [Au] OR “West E” [Au]'\n",
    "authors_immun = '“Nag D” [Au] OR “Kearney J” [Au] OR “Johnson A” [Au] OR “Rais M” [Au] or “Kublin J” [Au] OR “Ndoti A” [Au] OR “Abdelaal H” [Au] OR “Coler R” [Au] OR “Jaspan H” [Au] OR “Kumar A” [Au] OR “Pecor T” [Au] OR “Randhawa A” [Au] OR “Andersen-Nissen E” [Au] OR “Duncombe C” [Au] OR “Armistead B” [Au] OR “Miller D” [Au] OR “Seshadri C” [Au] OR “Williams B” [Au] OR “Barrett H” [Au] OR “West E” [Au] OR “Church E” [Au] OR  “Duffy F” [Au] OR “Fiore-Gartland A” [Au] OR “Mayer-Blackwell K” [Au] OR “Kieswetter N” [Au] OR “Allen R” [Au] OR “Himmelfarb T” [Au] OR “Bishop E” [Au] OR “Kgoadi K” [Au] OR “Zhu Z” [Au] OR “Harband M” [Au] OR “Harne R” [Au] OR “Akins S” [Au] OR “Larsen Akins S” [Au] OR “Reese V” [Au] OR “Pepple K” [Au] OR “Chendi B” [Au] OR “Subramanian N” [Au] OR “Bhuiyan M” [Au] OR “Kaushansky A” [Au] OR “Anterasian C” [Au] OR “Maciag K” [Au] OR “Fleming L” [Au] OR “Huynh T H” [Au] OR “Harrington W” [Au] OR “Harding C” [Au] OR “Kim H” [Au] OR “Ho K” [Au] OR “Klas J” [Au] OR “Gasper M\" [Au] OR “Simmons J” [Au] OR “Fernandez M” [Au] OR “Krug S” [Au] OR “Le C” [Au] OR “Weigel K” [Au] OR “Gern B” [Au] OR “Cross L” [Au] OR “Urdahl K” [Au] OR “Plumlee C” [Au] OR “Cohen S” [Au] OR “Chen S” [Au] OR “Baldwin S” [Au] OR “Gerner M” [Au] OR “Shah J” [Au] OR “Reynolds A” [Au] OR “Winter C” [Au] OR “Shamskhou E” [Au] OR “ Foster K” [Au] OR “Maerz M” [Au] OR “Villagrana P” [Au] OR “Tappen V” [Au] OR “Files M” [Au] OR “Makatsa M” [Au] OR “Hawn T” [Au] OR “Koelle D” [Au] OR “ Ramirez E” [Au] OR “Layton E” [Au] OR “Phan J” [Au] OR  “Yu K” [Au] OR “ Richardson S” [Au]'\n",
    "authors_micro = '“Nag D” [Au] OR “Kearney J” [Au] OR “Johnson A” [Au] OR “Rais M” [Au] OR “Abdelaal H” [Au] OR “Coler R” [Au] OR “Jaspan H” [Au] OR “Kumar A” [Au] OR “Pecor T” [Au] OR “Armistead B” [Au] OR “Miller D” [Au] OR “Allen R” [Au] OR “Kgoadi K” [Au] OR “Zhu Z” [Au] OR “Subramanian N” [Au] OR “Bhuiyan M” [Au] OR “Kaushansky A” [Au] OR “Fleming L” [Au] OR “Huynh T H” [Au] OR “Harrington W” [Au] OR “Harding C” [Au] OR “Kim H” [Au] OR “Klas J” [Au] OR “ Gasper M” [Au] OR “Simmons J” [Au] OR “Fernandez M” [Au] OR “Krug S” [Au] OR “Le C” [Au] OR “Weigel K” [Au] Or “Cangelosi G” [Au] OR “Sanders L” [Au] OR “Buckner F” [Au] OR “Panpradist N” [Au] OR “Haynes A” [Au] OR “Chohan B” [Au] OR “King`ori B” [Au] OR “Ma S” [Au] OR “Pepper E” [Au] OR “Mixon T” [Au] OR “Olson A” [Au] OR “Galina L” [Au] OR “Boradia V” [Au] OR “Parish T” [Au] OR “Chowdhury S” [Au] OR “Peterson E” [Au] OR “Sherman D” [Au] OR “Hernandez R” [Au] OR “Tieu E” [Au] OR “Deshpande A” [Au] OR “Bhagwat A” [Au] OR “Frando A” [Au] OR “Rodrigues da Costa F” [Au] OR “Eydinova A” [Au] OR “Butts A” [Au] OR “Berube B” [Au] OR “Ames L” [Au] OR “Coldren M” [Au] OR “Lial R” [Au] OR “Jones M” [Au] OR “Grundner C” [Au] OR “Carroll B” [Au] OR “Lamot E” [Au] OR “Fredricks L” [Au] OR “Eldesouky H” [Au] OR “Brache J” [Au] OR “Adams K” [Au] OR “Pruneda A” [Au] OR “Nilles E” [Au] OR “Wier J” [Au] OR “Thong Q” [Au]'\n",
    "authors_modeling = '“Nag D” [Au] OR “Kearney J” [Au] OR “Abdelaal H” [Au] OR “Duffy F” [Au] OR “Pepple K” [Au] OR “Motiri F” [Au] OR “LeGrand K” [Au] OR “Cherkos A” [Au] OR “Fajans M” [Au] OR “Tram K” [Au] OR “Basting A” [Au] OR “Sharma M” [Au] OR “Henry N” [Au] OR “Ross J” [Au]'\n",
    "authors_pubhealth = '“Nag D” [Au] OR “Kearney J” [Au] OR “Motiri F” [Au] OR “LeGrand K” [Au] OR “Cherkos A” [Au] OR “Fajans M” [Au] OR “Tram K” [Au] OR “Basting A” [Au] OR “Johnson A” [Au] OR “Rais M” [Au] OR “Armistead B” [Au] OR “Sanders L” [Au] OR “Panpradist N” [Au] OR “ King`ori B” [Au] OR “Ndoti A” [Au] OR “Trehan I” [Au] OR “Attia E” [Au] OR “Horne D” [Au] OR “Okwaro E” [Au] OR “Black D” [Au] OR “Tapley A” [Au] OR “Stein G” [Au] OR “Brumwell A” [Au] OR “Hill D” [Au] OR “Sorri Y” [Au] OR “Bender Ignacio R” [Au] OR “Wald A” [Au] OR “Magomere R” [Au] OR “Kerani R” [Au] OR “Ranade D” [Au] OR “Segura P” [Au] OR “Budd K” [Au] OR “Ghassemieh B” [Au] OR “Wood R” [Au]'\n",
    "authors_sysbio = '“Nag D” [Au] OR “Abdelaal H” [Au] OR “Duffy F” [Au] OR “Coler R” [Au] OR “Kgoadi K” [Au] OR “Subramanian N” [Au] OR “Bhuiyan M” [Au] OR “Kaushansky A” [Au] OR “Ma S” [Au] OR “Pepper E” [Au] OR “Mortiz R” [Au] OR “Peterson E” [Au] OR “Sherman D” [Au] OR “Duncombe C” [Au] OR “Fiore-Gartland A” [Au] OR “Anterasian C” [Au] OR “Maciag K” [Au] OR “Ong S” [Au]'\n",
    "authors_other = '\"Buckner FS\"[AU] OR \"Buckner Fred*\"[AU] OR “Mortiz R” [Au] OR “Trehan I” [Au] OR “Brumwell A” [Au] OR “Ranade D” [Au] OR “Pepple K” [Au] OR “Sharma M” [Au] OR “Cangelosi G” [Au] OR “Galina L” [Au] OR “Boradia V” [Au] OR “Parish T” [Au] OR “Chowdhury S” [Au] OR “Chendi B” [Au] OR “Segnitz M” [Au] OR “Andriesen J” [Au]'"
   ]
  },
  {
   "cell_type": "markdown",
   "metadata": {},
   "source": [
    "Tidy up more"
   ]
  },
  {
   "cell_type": "code",
   "execution_count": 112,
   "metadata": {},
   "outputs": [
    {
     "name": "stdout",
     "output_type": "stream",
     "text": [
      "175\n"
     ]
    },
    {
     "data": {
      "text/plain": [
       "['“Urdahl K”',\n",
       " '“Boradia V”',\n",
       " '“Frando A”',\n",
       " '“Berube B”',\n",
       " '“Cherkos A”',\n",
       " '“Williams B”',\n",
       " '“Segnitz M”',\n",
       " '“Seshadri C”',\n",
       " '“Lamot E”',\n",
       " '“Himmelfarb T”',\n",
       " '“Fajans M”',\n",
       " '“Gerner M”',\n",
       " '“Zhu Z”',\n",
       " '“Akins S”',\n",
       " '“Tieu E”',\n",
       " '“Nag D”',\n",
       " '“Wier J”',\n",
       " '“Wood R”',\n",
       " '“Pecor T”',\n",
       " '“Bhagwat A”',\n",
       " '“Krug S”',\n",
       " '“Simmons J”',\n",
       " '“Ames L”',\n",
       " '“West E”',\n",
       " '“Files M”',\n",
       " '“Chohan B”',\n",
       " '“Mayer-Blackwell, K”',\n",
       " '“Rais M”',\n",
       " '“Nilles E”',\n",
       " '“Hawn T”',\n",
       " '“Grundner C”',\n",
       " '“Duffy F”',\n",
       " '“Kumar A”',\n",
       " '“Abdelaal H”',\n",
       " '“Kearney J”',\n",
       " '“Cross L”',\n",
       " '“Barrett H”',\n",
       " '“Kieswetter N”',\n",
       " '“Tappen V”',\n",
       " '“LeGrand K”',\n",
       " '“Harband M”',\n",
       " '“Layton E”',\n",
       " '“Harrington W”',\n",
       " '“Magomere R”',\n",
       " '“Budd K”',\n",
       " '“Carroll B”',\n",
       " '“Church E”',\n",
       " '“Okwaro E”',\n",
       " '“Gottlieb G”',\n",
       " '“Graham S”',\n",
       " '“Brumwell A”',\n",
       " '“Larsen Akins S”',\n",
       " '“Ranade D”',\n",
       " '“Maerz M”',\n",
       " '“Rodrigues da Costa F”',\n",
       " '“Reynolds A”',\n",
       " '“Fiore-Gartland  A”',\n",
       " '“Shapiro A”',\n",
       " '“Haynes A”',\n",
       " '“King`ori B”',\n",
       " '“Coler R”',\n",
       " '“Bishop E”',\n",
       " '“Weigel K”',\n",
       " '“Yu K”',\n",
       " '“Tram K”',\n",
       " '“Hernandez R”',\n",
       " '“Horne D”',\n",
       " '“Ross J”',\n",
       " '“Peterson E”',\n",
       " '“Jaspan H”',\n",
       " '“Miller D”',\n",
       " '“Harding C”',\n",
       " '“Mixon T”',\n",
       " '“Kgoadi K”',\n",
       " '“Andersen-N E”',\n",
       " '“Makatsa M”',\n",
       " '“Parish T”',\n",
       " '“Tapley A”',\n",
       " '“Segura P”',\n",
       " '“Bhuiyan M”',\n",
       " '“Berkoh H”',\n",
       " '“Kaushansky A”',\n",
       " '“Armistead B”',\n",
       " '“Johnson A”',\n",
       " '“ Foster K”',\n",
       " '“Ho K”',\n",
       " '“Mayer-Blackwell K”',\n",
       " '“Ong S”',\n",
       " '\"Buckner FS\"',\n",
       " '“Ghassemieh B”',\n",
       " '“Fiore-Gartland A”',\n",
       " '“Fleming L”',\n",
       " '“Coldren M”',\n",
       " '“Fernandez M”',\n",
       " '“LaCourse S”',\n",
       " '“Jones M”',\n",
       " '“Baldwin S”',\n",
       " '“Huynh T H”',\n",
       " '“Cowan J”',\n",
       " '“Maciag K”',\n",
       " '“Valerie R”',\n",
       " '“Mortiz R”',\n",
       " '“Andriesen J”',\n",
       " '“Sanders L”',\n",
       " '“Cohen S”',\n",
       " '“Pepper E”',\n",
       " '“Motiri F”',\n",
       " '“Reese V”',\n",
       " '“Iribarren S”',\n",
       " '“Dalmat R”',\n",
       " '“Villagrana P”',\n",
       " '“Fredricks L”',\n",
       " '“Harne R”',\n",
       " '“Buckner F”',\n",
       " '“Stein G”',\n",
       " '“Klas J”',\n",
       " '“Shah J”',\n",
       " '“Lial R”',\n",
       " '“Trehan I”',\n",
       " '“Kim H”',\n",
       " '“Le C”',\n",
       " '“Gern B”',\n",
       " '“Plumlee C”',\n",
       " '“Sharma M”',\n",
       " '“ Richardson S”',\n",
       " '“Andersen-Nissen E”',\n",
       " '“Koelle D”',\n",
       " '“Galina L”',\n",
       " '“Randhawa A”',\n",
       " '“Mudrock E”',\n",
       " '“Black D”',\n",
       " '“Ndoti A”',\n",
       " '“Brache J”',\n",
       " '“ Gasper M”',\n",
       " '“Shamskhou E”',\n",
       " '“Anterasian C”',\n",
       " '“Henry N”',\n",
       " '“Subramanian N”',\n",
       " '“Pruneda A”',\n",
       " '“Chen S”',\n",
       " '“Attia E”',\n",
       " '“ King`ori B”',\n",
       " '“Phan J”',\n",
       " '“Bender Ignacio R”',\n",
       " '“Grosvenor D”',\n",
       " '“Eydinova A”',\n",
       " '“Thong Q”',\n",
       " '“Kerani R”',\n",
       " '“Sherman D”',\n",
       " '“Butts A”',\n",
       " '“Basting A”',\n",
       " '“Panpradist N”',\n",
       " '“Gasper M\"',\n",
       " '“Chowdhury S”',\n",
       " '“Adams K”',\n",
       " '“Allen R”',\n",
       " '“Hill D”',\n",
       " '“Pepple K”',\n",
       " '“Duncombe C”',\n",
       " '“Escudero J”',\n",
       " '“Chendi B”',\n",
       " '“Kublin J”',\n",
       " '\"Buckner Fred*\"',\n",
       " '“Bustad E”',\n",
       " '“Wald A”',\n",
       " '“Smytheman T”',\n",
       " '“Winter C”',\n",
       " '“Ma S”',\n",
       " '“Eldesouky H”',\n",
       " '“Cangelosi G”',\n",
       " '“Sorri Y”',\n",
       " '“John-Stewart G”',\n",
       " '“Deshpande A”',\n",
       " '“ Ramirez E”',\n",
       " '“Olson A”']"
      ]
     },
     "execution_count": 112,
     "metadata": {},
     "output_type": "execute_result"
    }
   ],
   "source": [
    "# Combine into one long string, then split into a list of names\n",
    "authors = ' OR '.join([authors_clinic, authors_compbio, authors_epi, authors_globalhealth,\n",
    "            authors_immun, authors_micro, authors_modeling, authors_pubhealth,\n",
    "            authors_sysbio, authors_other]).\\\n",
    "                replace(' or ', ' OR ').\\\n",
    "                replace(' Or ', ' OR ').\\\n",
    "                replace('AU', 'au').\\\n",
    "                replace('Au', 'au').\\\n",
    "                replace('\\\" [au] \\\"', '[au] OR ').\\\n",
    "                split('[au] OR ')\n",
    "\n",
    "# Remove whitespace\n",
    "author_names = [s.strip() for s in authors]  # leading and trailing\n",
    "\n",
    "# Handle special (last) case\n",
    "author_names2 = [s.replace('“Andriesen J” [au]', '“Andriesen J”') for s in author_names] \n",
    "\n",
    "# Remove duplicates\n",
    "author_names3 = list(set(author_names2))\n",
    "\n",
    "print(len(author_names3))\n",
    "author_names3"
   ]
  },
  {
   "cell_type": "markdown",
   "metadata": {},
   "source": [
    "Split into two big strings. 99+ and it the URL request doesn't return anything."
   ]
  },
  {
   "cell_type": "code",
   "execution_count": 113,
   "metadata": {},
   "outputs": [
    {
     "data": {
      "text/plain": [
       "'(“Urdahl K”[au] OR “Boradia V”[au] OR “Frando A”[au] OR “Berube B”[au] OR “Cherkos A”[au] OR “Williams B”[au] OR “Segnitz M”[au] OR “Seshadri C”[au] OR “Lamot E”[au] OR “Himmelfarb T”[au] OR “Fajans M”[au] OR “Gerner M”[au] OR “Zhu Z”[au] OR “Akins S”[au] OR “Tieu E”[au] OR “Nag D”[au] OR “Wier J”[au] OR “Wood R”[au] OR “Pecor T”[au] OR “Bhagwat A”[au] OR “Krug S”[au] OR “Simmons J”[au] OR “Ames L”[au] OR “West E”[au] OR “Files M”[au] OR “Chohan B”[au] OR “Mayer-Blackwell, K”[au] OR “Rais M”[au] OR “Nilles E”[au] OR “Hawn T”[au] OR “Grundner C”[au] OR “Duffy F”[au] OR “Kumar A”[au] OR “Abdelaal H”[au] OR “Kearney J”[au] OR “Cross L”[au] OR “Barrett H”[au] OR “Kieswetter N”[au] OR “Tappen V”[au] OR “LeGrand K”[au] OR “Harband M”[au] OR “Layton E”[au] OR “Harrington W”[au] OR “Magomere R”[au] OR “Budd K”[au] OR “Carroll B”[au] OR “Church E”[au] OR “Okwaro E”[au] OR “Gottlieb G”[au] OR “Graham S”[au] OR “Brumwell A”[au] OR “Larsen Akins S”[au] OR “Ranade D”[au] OR “Maerz M”[au] OR “Rodrigues da Costa F”[au] OR “Reynolds A”[au] OR “Fiore-Gartland  A”[au] OR “Shapiro A”[au] OR “Haynes A”[au] OR “King`ori B”[au] OR “Coler R”[au] OR “Bishop E”[au] OR “Weigel K”[au] OR “Yu K”[au] OR “Tram K”[au] OR “Hernandez R”[au] OR “Horne D”[au] OR “Ross J”[au] OR “Peterson E”[au] OR “Jaspan H”[au] OR “Miller D”[au] OR “Harding C”[au] OR “Mixon T”[au] OR “Kgoadi K”[au] OR “Andersen-N E”[au] OR “Makatsa M”[au] OR “Parish T”[au] OR “Tapley A”[au] OR “Segura P”[au] OR “Bhuiyan M”[au] OR “Berkoh H”[au] OR “Kaushansky A”[au] OR “Armistead B”[au] OR “Johnson A”[au] OR “ Foster K”[au] OR “Ho K”[au] OR “Mayer-Blackwell K”[au] OR “Ong S”)'"
      ]
     },
     "execution_count": 113,
     "metadata": {},
     "output_type": "execute_result"
    }
   ],
   "source": [
    "authors_str1 = '(' + '[au] OR '.join(author_names3[:88]) + ')'\n",
    "authors_str2 = '(' + '[au] OR '.join(author_names3[88:]) + ')'\n",
    "\n",
    "authors_str1"
   ]
  },
  {
   "cell_type": "markdown",
   "metadata": {},
   "source": [
    "# 2) Build the URLs\n",
    "\n",
    "When combining all the terms the URL is too large, so will need to break them up and then look for intersecting pubmed IDs.\n",
    "\n",
    "Return up to 1 million records (retmax=1000000). All papers published by UW in a 3 month span is < 5000."
   ]
  },
  {
   "cell_type": "code",
   "execution_count": 114,
   "metadata": {},
   "outputs": [],
   "source": [
    "# Use my NCBI account API key\n",
    "api_key = 'e8c1951d5b35792885126d8a9597398a1a07'\n",
    "\n",
    "prefix = 'https://eutils.ncbi.nlm.nih.gov/entrez/eutils/esearch.fcgi?db=pubmed&term=' + pubdate + '+AND+'\n",
    "suffix = '&retmax=1000000&usehistory=y'"
   ]
  },
  {
   "cell_type": "code",
   "execution_count": 115,
   "metadata": {},
   "outputs": [],
   "source": [
    "affil_url = prefix + affil_str + suffix\n",
    "concept_url = prefix + concept_str + suffix\n",
    "author1_url = prefix + authors_str1 + suffix\n",
    "author2_url = prefix + authors_str2 + suffix"
   ]
  },
  {
   "cell_type": "markdown",
   "metadata": {},
   "source": [
    "# 3) Submit the searches"
   ]
  },
  {
   "cell_type": "code",
   "execution_count": 116,
   "metadata": {},
   "outputs": [],
   "source": [
    "def get_pubmed_ids(url):\n",
    "    page = requests.get(url).text\n",
    "    result = BeautifulSoup(page, 'xml')\n",
    "    IDlist = [i.text for i in result.find_all('Id')]\n",
    "    print(len(IDlist))\n",
    "    return IDlist"
   ]
  },
  {
   "cell_type": "code",
   "execution_count": 117,
   "metadata": {},
   "outputs": [
    {
     "name": "stdout",
     "output_type": "stream",
     "text": [
      "0\n"
     ]
    },
    {
     "name": "stdout",
     "output_type": "stream",
     "text": [
      "2876\n",
      "2163\n",
      "4075\n",
      "6178\n"
     ]
    }
   ],
   "source": [
    "affil_ids = get_pubmed_ids(affil_url)\n",
    "concpet_ids = get_pubmed_ids(concept_url)\n",
    "author1_ids = get_pubmed_ids(author1_url)\n",
    "author2_ids = get_pubmed_ids(author2_url)\n",
    "\n",
    "# Combine author results\n",
    "author_ids = list(set(author1_ids + author2_ids))\n",
    "print(len(author_ids))"
   ]
  },
  {
   "cell_type": "markdown",
   "metadata": {},
   "source": [
    "# 4) Overlap the filters\n",
    "\n",
    "Which pubmed IDs appear in all the lists?"
   ]
  },
  {
   "cell_type": "code",
   "execution_count": 118,
   "metadata": {},
   "outputs": [
    {
     "data": {
      "text/plain": [
       "0"
      ]
     },
     "execution_count": 118,
     "metadata": {},
     "output_type": "execute_result"
    }
   ],
   "source": [
    "filtered = set.intersection(set(affil_ids),\n",
    "                            set(concpet_ids),\n",
    "                            set(author_ids))\n",
    "len(filtered)"
   ]
  },
  {
   "cell_type": "code",
   "execution_count": 119,
   "metadata": {},
   "outputs": [
    {
     "name": "stdout",
     "output_type": "stream",
     "text": [
      "\n"
     ]
    }
   ],
   "source": [
    "out = ';'.join(list(filtered))\n",
    "print(out)"
   ]
  }
 ],
 "metadata": {
  "kernelspec": {
   "display_name": "base",
   "language": "python",
   "name": "python3"
  },
  "language_info": {
   "codemirror_mode": {
    "name": "ipython",
    "version": 3
   },
   "file_extension": ".py",
   "mimetype": "text/x-python",
   "name": "python",
   "nbconvert_exporter": "python",
   "pygments_lexer": "ipython3",
   "version": "3.9.7"
  },
  "orig_nbformat": 4
 },
 "nbformat": 4,
 "nbformat_minor": 2
}
